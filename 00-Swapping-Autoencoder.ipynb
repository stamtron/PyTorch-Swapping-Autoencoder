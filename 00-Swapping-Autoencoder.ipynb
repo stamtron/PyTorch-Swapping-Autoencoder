{
 "cells": [
  {
   "cell_type": "code",
   "execution_count": null,
   "metadata": {},
   "outputs": [],
   "source": [
    "from model import *"
   ]
  },
  {
   "cell_type": "code",
   "execution_count": null,
   "metadata": {},
   "outputs": [],
   "source": [
    "image_size = 256\n",
    "structure_channels = 8\n",
    "texture_channels = 2048\n",
    "blur_kernel = (1,3,3,1)\n",
    "entry_channels = 32\n",
    "   \n",
    "encoder = Encoder(structure_channels = structure_channels,\n",
    "                  texture_channels = texture_channels,\n",
    "                  blur_kernel = blur_kernel,\n",
    "                  entry_channels = entry_channels)\n",
    "    \n",
    "generator = Generator(structure_channels = structure_channels,\n",
    "                      texture_channels = texture_channels,\n",
    "                      blur_kernel = blur_kernel,\n",
    "                      entry_channels = entry_channels)\n",
    "        \n",
    "discriminator = Discriminator(size = image_size,\n",
    "                              channel_multiplier = 1,\n",
    "                              blur_kernel = blur_kernel)\n",
    "        \n",
    "patchDiscriminator = PatchDiscriminator(size=image_size,\n",
    "                                        channel = entry_channels)"
   ]
  },
  {
   "cell_type": "code",
   "execution_count": null,
   "metadata": {},
   "outputs": [],
   "source": []
  }
 ],
 "metadata": {
  "language_info": {
   "name": "python",
   "pygments_lexer": "ipython3"
  }
 },
 "nbformat": 4,
 "nbformat_minor": 4
}
